{
 "cells": [
  {
   "cell_type": "code",
   "execution_count": 1,
   "metadata": {},
   "outputs": [
    {
     "name": "stdout",
     "output_type": "stream",
     "text": [
      "120452\n"
     ]
    }
   ],
   "source": [
    "### Author: Aditya Jain #####\n",
    "### Topic: Classification based on Bag-of-Visual-Words Model ###\n",
    "### Start Date: 22nd March, 2018 ###\n",
    "\n",
    "import cv2\n",
    "import numpy as np\n",
    "from matplotlib import pyplot as plt\n",
    "from math import sqrt\n",
    "from __future__ import division\n",
    "import glob\n",
    "import time\n",
    "import os\n",
    "from sklearn.cluster import KMeans\n",
    "from sklearn.cluster import MiniBatchKMeans\n",
    "import time\n",
    "\n",
    "start_time = time.time()\n",
    "\n",
    "featureDesList = []\n",
    "\n",
    "# This function iterates over all the training images and returns a concatented feature descriptor list\n",
    "def findFeaturesDes():\n",
    "    listDes = []\n",
    "    label = []    # 1 for vehicle, 0 for non-vehicle\n",
    "    HistogramFeatures = []  # this stores features separately for the histogram generation\n",
    "    i = 0\n",
    "    \n",
    "    TrainFolder = glob.glob(\"Training/*\")\n",
    "    \n",
    "    for folder in TrainFolder:        \n",
    "        VehFolder = glob.glob(folder + \"/*\")  \n",
    "        \n",
    "        for vehicle in VehFolder:\n",
    "            images = glob.glob(vehicle + \"/*\")\n",
    "            \n",
    "            for img in images:                \n",
    "                TrainImage = cv2.imread(img)               \n",
    "                TrainImageGray = cv2.cvtColor(TrainImage,cv2.COLOR_BGR2GRAY)  # Converting to gray scale\n",
    "                \n",
    "                # Applying SIFT feature detector\n",
    "                sift = cv2.SIFT(10)\n",
    "                kp, des = sift.detectAndCompute(TrainImageGray,None)   # kp are the keypoints, des are the descriptors               \n",
    "                \n",
    "                if des is not None:\n",
    "                    HistogramFeatures.append(des)                    \n",
    "                    \n",
    "                    if str(folder) == 'Training/non-vehicles':\n",
    "                        label.append(0)                            \n",
    "                    else:\n",
    "                        label.append(1)\n",
    "                    \n",
    "                    # This stores all the features as a single entity\n",
    "                    for descriptor in des:                        \n",
    "                        listDes.append(descriptor)\n",
    "                        \n",
    "                            \n",
    "                \n",
    "                i += 1\n",
    "                \n",
    "                \n",
    "    return listDes, i, label, HistogramFeatures\n",
    "                \n",
    "                \n",
    "featureDesList, count, labels, histFeatures = findFeaturesDes()\n",
    "print len(featureDesList)"
   ]
  },
  {
   "cell_type": "code",
   "execution_count": 2,
   "metadata": {},
   "outputs": [],
   "source": [
    "## Peforming K-means clustering to get bag of visual words\n",
    "\n",
    "# kmeans = MiniBatchKMeans(n_clusters=1000).fit(featureDesList)\n",
    "kmeans = KMeans(n_clusters=1000, random_state=0, n_init=3, max_iter=50).fit(featureDesList)\n",
    "error = (kmeans.inertia_)/(len(featureDesList))  # distance error per feature vector"
   ]
  },
  {
   "cell_type": "code",
   "execution_count": 3,
   "metadata": {},
   "outputs": [
    {
     "name": "stdout",
     "output_type": "stream",
     "text": [
      "225.99038974634564\n"
     ]
    }
   ],
   "source": [
    "error = (kmeans.inertia_)/(len(featureDesList))  # distance error per feature vector\n",
    "print np.sqrt(error)"
   ]
  },
  {
   "cell_type": "code",
   "execution_count": 4,
   "metadata": {},
   "outputs": [
    {
     "name": "stdout",
     "output_type": "stream",
     "text": [
      "(1000, 128)\n"
     ]
    }
   ],
   "source": [
    "print np.shape(kmeans.cluster_centers_)"
   ]
  },
  {
   "cell_type": "code",
   "execution_count": 5,
   "metadata": {},
   "outputs": [
    {
     "ename": "KeyboardInterrupt",
     "evalue": "",
     "output_type": "error",
     "traceback": [
      "\u001b[0;31m---------------------------------------------------------------------------\u001b[0m",
      "\u001b[0;31mKeyboardInterrupt\u001b[0m                         Traceback (most recent call last)",
      "\u001b[0;32m<ipython-input-5-0093ef168c35>\u001b[0m in \u001b[0;36m<module>\u001b[0;34m()\u001b[0m\n\u001b[1;32m     33\u001b[0m \u001b[0;34m\u001b[0m\u001b[0m\n\u001b[1;32m     34\u001b[0m \u001b[0;34m\u001b[0m\u001b[0m\n\u001b[0;32m---> 35\u001b[0;31m \u001b[0mHistFeatureList\u001b[0m \u001b[0;34m=\u001b[0m \u001b[0mhistogramVector\u001b[0m\u001b[0;34m(\u001b[0m\u001b[0mhistFeatures\u001b[0m\u001b[0;34m,\u001b[0m \u001b[0mkmeans\u001b[0m\u001b[0;34m.\u001b[0m\u001b[0mcluster_centers_\u001b[0m\u001b[0;34m,\u001b[0m \u001b[0;36m1000\u001b[0m\u001b[0;34m)\u001b[0m\u001b[0;34m\u001b[0m\u001b[0m\n\u001b[0m\u001b[1;32m     36\u001b[0m \u001b[0;34m\u001b[0m\u001b[0m\n\u001b[1;32m     37\u001b[0m \u001b[0mend_time\u001b[0m \u001b[0;34m=\u001b[0m \u001b[0mtime\u001b[0m\u001b[0;34m.\u001b[0m\u001b[0mtime\u001b[0m\u001b[0;34m(\u001b[0m\u001b[0;34m)\u001b[0m\u001b[0;34m\u001b[0m\u001b[0m\n",
      "\u001b[0;32m<ipython-input-5-0093ef168c35>\u001b[0m in \u001b[0;36mhistogramVector\u001b[0;34m(featureSet, ClusCen, NoC)\u001b[0m\n\u001b[1;32m     17\u001b[0m             \u001b[0;31m# finding the closest cluster center with the feature vector\u001b[0m\u001b[0;34m\u001b[0m\u001b[0;34m\u001b[0m\u001b[0m\n\u001b[1;32m     18\u001b[0m             \u001b[0;32mfor\u001b[0m \u001b[0mcenter\u001b[0m \u001b[0;32min\u001b[0m \u001b[0mClusCen\u001b[0m\u001b[0;34m:\u001b[0m\u001b[0;34m\u001b[0m\u001b[0m\n\u001b[0;32m---> 19\u001b[0;31m                 \u001b[0mDist\u001b[0m \u001b[0;34m=\u001b[0m \u001b[0mnp\u001b[0m\u001b[0;34m.\u001b[0m\u001b[0mlinalg\u001b[0m\u001b[0;34m.\u001b[0m\u001b[0mnorm\u001b[0m\u001b[0;34m(\u001b[0m\u001b[0mfeatures\u001b[0m\u001b[0;34m-\u001b[0m\u001b[0mcenter\u001b[0m\u001b[0;34m)\u001b[0m   \u001b[0;31m# finding euclidean distance between the feature and cluster center\u001b[0m\u001b[0;34m\u001b[0m\u001b[0m\n\u001b[0m\u001b[1;32m     20\u001b[0m \u001b[0;34m\u001b[0m\u001b[0m\n\u001b[1;32m     21\u001b[0m                 \u001b[0;32mif\u001b[0m \u001b[0mDist\u001b[0m \u001b[0;34m<\u001b[0m \u001b[0mMinDis\u001b[0m\u001b[0;34m:\u001b[0m\u001b[0;34m\u001b[0m\u001b[0m\n",
      "\u001b[0;32m/Users/adityaj/miniconda2/lib/python2.7/site-packages/numpy/linalg/linalg.pyc\u001b[0m in \u001b[0;36mnorm\u001b[0;34m(x, ord, axis, keepdims)\u001b[0m\n\u001b[1;32m   2240\u001b[0m     \u001b[0mx\u001b[0m \u001b[0;34m=\u001b[0m \u001b[0masarray\u001b[0m\u001b[0;34m(\u001b[0m\u001b[0mx\u001b[0m\u001b[0;34m)\u001b[0m\u001b[0;34m\u001b[0m\u001b[0m\n\u001b[1;32m   2241\u001b[0m \u001b[0;34m\u001b[0m\u001b[0m\n\u001b[0;32m-> 2242\u001b[0;31m     \u001b[0;32mif\u001b[0m \u001b[0;32mnot\u001b[0m \u001b[0missubclass\u001b[0m\u001b[0;34m(\u001b[0m\u001b[0mx\u001b[0m\u001b[0;34m.\u001b[0m\u001b[0mdtype\u001b[0m\u001b[0;34m.\u001b[0m\u001b[0mtype\u001b[0m\u001b[0;34m,\u001b[0m \u001b[0;34m(\u001b[0m\u001b[0minexact\u001b[0m\u001b[0;34m,\u001b[0m \u001b[0mobject_\u001b[0m\u001b[0;34m)\u001b[0m\u001b[0;34m)\u001b[0m\u001b[0;34m:\u001b[0m\u001b[0;34m\u001b[0m\u001b[0m\n\u001b[0m\u001b[1;32m   2243\u001b[0m         \u001b[0mx\u001b[0m \u001b[0;34m=\u001b[0m \u001b[0mx\u001b[0m\u001b[0;34m.\u001b[0m\u001b[0mastype\u001b[0m\u001b[0;34m(\u001b[0m\u001b[0mfloat\u001b[0m\u001b[0;34m)\u001b[0m\u001b[0;34m\u001b[0m\u001b[0m\n\u001b[1;32m   2244\u001b[0m \u001b[0;34m\u001b[0m\u001b[0m\n",
      "\u001b[0;31mKeyboardInterrupt\u001b[0m: "
     ]
    }
   ],
   "source": [
    "### Building the histogram for training\n",
    "\n",
    "# This function returns the histogram with the labels for training\n",
    "def histogramVector(featureSet, ClusCen, NoC):\n",
    "    \n",
    "    MegaHistogram = []      # This contains the histogram vector for all the images\n",
    "    \n",
    "    for image in featureSet:   \n",
    "        \n",
    "        histogram = np.zeros(NoC)    # histogram initialised\n",
    "        \n",
    "        for features in image:\n",
    "        \n",
    "            MinDis = 10000000;\n",
    "            MinClusCenIndex = -10000;   \n",
    "            i = 0;\n",
    "            # finding the closest cluster center with the feature vector\n",
    "            for center in ClusCen:          \n",
    "                Dist = np.linalg.norm(features-center)   # finding euclidean distance between the feature and cluster center \n",
    "            \n",
    "                if Dist < MinDis:\n",
    "                    MinDis = Dist\n",
    "                    MinClusCenIndex = i\n",
    "                \n",
    "                \n",
    "                i += 1\n",
    "                \n",
    "            np.add.at(histogram, [MinClusCenIndex], 1)  \n",
    "            \n",
    "        MegaHistogram.append(histogram)\n",
    "        \n",
    "    return MegaHistogram\n",
    "\n",
    "\n",
    "HistFeatureList = histogramVector(histFeatures, kmeans.cluster_centers_, 1000)\n",
    "        \n",
    "end_time = time.time()\n",
    "\n",
    "print \"Time Taken:\", end_time-start_time"
   ]
  },
  {
   "cell_type": "code",
   "execution_count": null,
   "metadata": {},
   "outputs": [],
   "source": [
    "### Applying SVM Model with cross-validation\n",
    "from sklearn import svm\n",
    "import matplotlib.pyplot as plt\n",
    "from sklearn.model_selection import cross_val_score\n",
    "\n",
    "X_train = HistFeatureList\n",
    "Y_train = labels\n",
    "RegularParam = []\n",
    "MeanScore = []\n",
    "for i in range(1,20): \n",
    "    print i\n",
    "    clf = svm.LinearSVC(C=i)\n",
    "    scores = cross_val_score(clf, X_train, Y_train, cv=5)\n",
    "    RegularParam.append(i)\n",
    "    MeanScore.append(scores.mean()*100)\n",
    "    \n",
    "# Plotting\n",
    "plt.plot(RegularParam, MeanScore)\n",
    "plt.ylabel('Accuracy in %')\n",
    "plt.xlabel('Regularisation Parameter Value')\n",
    "plt.title('Accuracy v/s Regularisation Parameter for SVM')"
   ]
  },
  {
   "cell_type": "code",
   "execution_count": null,
   "metadata": {},
   "outputs": [],
   "source": [
    "### Finally doing the training\n",
    "\n",
    "# Training with the chosen regularisation parameter\n",
    "lin_clf = svm.LinearSVC(C=1.0)\n",
    "lin_clf.fit(X_train, Y_train) "
   ]
  },
  {
   "cell_type": "code",
   "execution_count": null,
   "metadata": {},
   "outputs": [],
   "source": [
    "### Testing on the test data\n",
    "\n",
    "# Building the histogram for the test dataset\n",
    "def findFeaturesDesTest():\n",
    "    \n",
    "    ImageNum = [] # Will be used to check later that which images have failed the prediction\n",
    "    label = []    # 1 for vehicle, 0 for non-vehicle\n",
    "    HistogramFeatures = []  # this stores features separately for the histogram generation\n",
    "    i = 0\n",
    "    \n",
    "    TrainFolder = glob.glob(\"Test/*\")\n",
    "    \n",
    "    for folder in TrainFolder:        \n",
    "        VehFolder = glob.glob(folder + \"/*\")  \n",
    "        \n",
    "        for vehicle in VehFolder:\n",
    "            images = glob.glob(vehicle + \"/*\")\n",
    "            \n",
    "            for img in images:                \n",
    "                TrainImage = cv2.imread(img)               \n",
    "                TrainImageGray = cv2.cvtColor(TrainImage,cv2.COLOR_BGR2GRAY)  # Converting to gray scale\n",
    "                \n",
    "                # Applying SIFT feature detector\n",
    "                sift = cv2.SIFT(10)\n",
    "                kp, des = sift.detectAndCompute(TrainImageGray,None)   # kp are the keypoints, des are the descriptors               \n",
    "                \n",
    "                if des is not None:\n",
    "                    HistogramFeatures.append(des)                    \n",
    "                    \n",
    "                    if str(folder) == 'Test/NonVehicles':\n",
    "                        label.append(0)                            \n",
    "                    else:\n",
    "                        label.append(1) \n",
    "                        \n",
    "                    ImageNum.append(img)\n",
    "                            \n",
    "                \n",
    "                i += 1\n",
    "                \n",
    "                \n",
    "    return i, label, HistogramFeatures, ImageNum\n",
    "\n",
    "Count, LabelTest, FeatureListTest, ImageNames = findFeaturesDesTest()\n",
    "\n",
    "HistFeatureListTest = histogramVector(FeatureListTest, kmeans.cluster_centers_, 1000)"
   ]
  },
  {
   "cell_type": "code",
   "execution_count": null,
   "metadata": {},
   "outputs": [],
   "source": [
    "print len(LabelTest), len(HistFeautureListTest)"
   ]
  },
  {
   "cell_type": "code",
   "execution_count": null,
   "metadata": {},
   "outputs": [],
   "source": [
    "### Testing on the test dataset\n",
    "Predictions = lin_clf.predict(HistFeatureListTest)\n",
    "\n",
    "def classificationAccuracy(pred, truth):    \n",
    "    size = len(pred)\n",
    "    count = 0\n",
    "    fail = []   # Stores the list of failed predictions\n",
    "    \n",
    "    for i in range(size):\n",
    "        if pred[i] == truth[i]:\n",
    "            count += 1\n",
    "        else:\n",
    "            fail.append(i)\n",
    "            \n",
    "    return (count/size)*100, fail\n",
    "   \n",
    "\n",
    "Accuracy, FailCases = classificationAccuracy(Predictions, LabelTest)\n",
    "print Accuracy"
   ]
  },
  {
   "cell_type": "code",
   "execution_count": null,
   "metadata": {},
   "outputs": [],
   "source": [
    "print FailCases"
   ]
  },
  {
   "cell_type": "code",
   "execution_count": null,
   "metadata": {},
   "outputs": [],
   "source": [
    "print ImageNames[21]\n",
    "print ImageNames[396]\n",
    "print ImageNames[842]\n",
    "print ImageNames[1386]\n",
    "print ImageNames[2727]\n",
    "print ImageNames[3234]\n",
    "print ImageNames[3359]\n",
    "print ImageNames[1894]"
   ]
  },
  {
   "cell_type": "code",
   "execution_count": null,
   "metadata": {},
   "outputs": [],
   "source": []
  }
 ],
 "metadata": {
  "kernelspec": {
   "display_name": "Python 2",
   "language": "python",
   "name": "python2"
  },
  "language_info": {
   "codemirror_mode": {
    "name": "ipython",
    "version": 2
   },
   "file_extension": ".py",
   "mimetype": "text/x-python",
   "name": "python",
   "nbconvert_exporter": "python",
   "pygments_lexer": "ipython2",
   "version": "2.7.14"
  }
 },
 "nbformat": 4,
 "nbformat_minor": 2
}
